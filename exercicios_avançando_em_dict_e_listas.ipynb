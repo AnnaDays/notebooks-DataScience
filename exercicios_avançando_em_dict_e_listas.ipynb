{
  "nbformat": 4,
  "nbformat_minor": 0,
  "metadata": {
    "colab": {
      "provenance": [],
      "authorship_tag": "ABX9TyNbPc1vLWZ0lgpjqulW+mAc",
      "include_colab_link": true
    },
    "kernelspec": {
      "name": "python3",
      "display_name": "Python 3"
    },
    "language_info": {
      "name": "python"
    }
  },
  "cells": [
    {
      "cell_type": "markdown",
      "metadata": {
        "id": "view-in-github",
        "colab_type": "text"
      },
      "source": [
        "<a href=\"https://colab.research.google.com/github/AnnaDays/notebooks-DataScience/blob/main/exercicios_avan%C3%A7ando_em_dict_e_listas.ipynb\" target=\"_parent\"><img src=\"https://colab.research.google.com/assets/colab-badge.svg\" alt=\"Open In Colab\"/></a>"
      ]
    },
    {
      "cell_type": "code",
      "execution_count": 1,
      "metadata": {
        "id": "zE3SKfSsKqwi",
        "colab": {
          "base_uri": "https://localhost:8080/"
        },
        "outputId": "72b622b0-f3a3-4436-d756-fc56528807e7"
      },
      "outputs": [
        {
          "output_type": "stream",
          "name": "stdout",
          "text": [
            "A soma da lista de listas é: 24\n",
            "A soma da lista de listas é: 10\n",
            "A soma da lista de listas é: 16\n"
          ]
        }
      ],
      "source": [
        "lista_de_listas = [[4,6,5,9], [1,0,7,2], [3,4,1,8]]\n",
        "for lista in lista_de_listas:\n",
        "  soma = sum(lista)\n",
        "  print(f\"A soma da lista de listas é: {soma}\")"
      ]
    },
    {
      "cell_type": "code",
      "source": [
        "lista_de_tuplas = [('Pedro', 1.74, 81), ('Júlia', 1.65, 67), ('Otávio', 1.81, 83)]\n",
        "lista = []\n",
        "for tupla in lista_de_tuplas:\n",
        "  lista.append(tupla[2])\n",
        "  print(f\"O terceiro elemento da lista de tuplas é: {tupla[2]}\")"
      ],
      "metadata": {
        "colab": {
          "base_uri": "https://localhost:8080/"
        },
        "id": "0WWnh_TD_LX8",
        "outputId": "90d0e2bc-a689-4cb4-eb52-c95ecad35c9e"
      },
      "execution_count": 9,
      "outputs": [
        {
          "output_type": "stream",
          "name": "stdout",
          "text": [
            "O terceiro elemento da lista de tuplas é: 81\n",
            "O terceiro elemento da lista de tuplas é: 67\n",
            "O terceiro elemento da lista de tuplas é: 83\n"
          ]
        }
      ]
    },
    {
      "cell_type": "code",
      "source": [
        "lista = ['Pedro', 'Júlia', 'Otávio', 'Eduardo']\n",
        "lista_nomes = []\n",
        "for i in range(len(lista)):\n",
        "  lista_nomes.append((i, lista[i]))\n",
        "print(f\"A lista de tuplas com os nomes e números é: {lista_nomes}\")"
      ],
      "metadata": {
        "colab": {
          "base_uri": "https://localhost:8080/"
        },
        "id": "Byi1LcyeA8_8",
        "outputId": "3698102a-e79b-4617-867a-58aa3daa7284"
      },
      "execution_count": 16,
      "outputs": [
        {
          "output_type": "stream",
          "name": "stdout",
          "text": [
            "A lista de tuplas com os nomes e números é: [(0, 'Pedro'), (1, 'Júlia'), (2, 'Otávio'), (3, 'Eduardo')]\n"
          ]
        }
      ]
    },
    {
      "cell_type": "code",
      "source": [
        "meses = ['Jan', 'Fev', 'Mar', 'Abr', 'Mai', 'Jun', 'Jul', 'Ago', 'Set', 'Out', 'Nov', 'Dez']\n",
        "despesa = [860, 490, 1010, 780, 900, 630, 590, 770, 620, 560, 840, 360]\n",
        "dicionario = {meses[i]: despesa[i] for i in range(len(meses))} #DICT COMPREHENSION\n",
        "dicionario"
      ],
      "metadata": {
        "colab": {
          "base_uri": "https://localhost:8080/"
        },
        "id": "8RsR5DOvC6Ih",
        "outputId": "4d1be6be-5699-4ae4-ee0d-5bbcbf715132"
      },
      "execution_count": 17,
      "outputs": [
        {
          "output_type": "execute_result",
          "data": {
            "text/plain": [
              "{'Jan': 860,\n",
              " 'Fev': 490,\n",
              " 'Mar': 1010,\n",
              " 'Abr': 780,\n",
              " 'Mai': 900,\n",
              " 'Jun': 630,\n",
              " 'Jul': 590,\n",
              " 'Ago': 770,\n",
              " 'Set': 620,\n",
              " 'Out': 560,\n",
              " 'Nov': 840,\n",
              " 'Dez': 360}"
            ]
          },
          "metadata": {},
          "execution_count": 17
        }
      ]
    },
    {
      "cell_type": "code",
      "source": [
        "aluguel = [('Apartamento', 1700), ('Apartamento', 1400), ('Casa', 2150), ('Apartamento', 1900), ('Casa', 1100)]\n",
        "lista = [tupla[1] for tupla in aluguel if tupla[0] == 'Apartamento']\n",
        "print(f\"Os valores do Apartamento são: {lista}\")"
      ],
      "metadata": {
        "colab": {
          "base_uri": "https://localhost:8080/"
        },
        "id": "eA1OtcmZEP99",
        "outputId": "5a3846a0-0a87-489c-b857-1adc15dde3fe"
      },
      "execution_count": 25,
      "outputs": [
        {
          "output_type": "stream",
          "name": "stdout",
          "text": [
            "Os valores do Apartamento são: [1700, 1400, 1900]\n"
          ]
        }
      ]
    },
    {
      "cell_type": "code",
      "source": [
        "vendas = [('2023', 4093), ('2021', 4320), ('2021', 5959), ('2022', 8883), ('2023', 9859), ('2022', 5141), ('2022', 7688), ('2022', 9544), ('2023', 4794), ('2021', 7178), ('2022', 3030), ('2021', 7471), ('2022', 4226), ('2022', 8190), ('2021', 9680), ('2022', 5616)]\n",
        "lista = [lista_valores[1] for lista_valores in vendas if lista_valores[0] == '2022' and lista_valores[1] >= 6000]\n",
        "print(f\"Os dados filtrados do ano de 2022 com valores maior que R$6000 foram: {lista}\")"
      ],
      "metadata": {
        "colab": {
          "base_uri": "https://localhost:8080/"
        },
        "id": "fnn2KDR6HZwl",
        "outputId": "219103f4-58b6-4f9f-8490-5902a4098739"
      },
      "execution_count": 28,
      "outputs": [
        {
          "output_type": "stream",
          "name": "stdout",
          "text": [
            "Os dados filtrados do ano de 2022 com valores maior que R$6000 foram: [8883, 7688, 9544, 8190]\n"
          ]
        }
      ]
    },
    {
      "cell_type": "code",
      "source": [
        "glicemia = [129, 82, 60, 97, 101, 65, 62, 167, 87, 53, 58, 92, 66, 120, 109, 62, 86, 96, 103, 88, 155, 52, 89, 73]\n",
        "dados = [('Hipoglicemia', glicose) if glicose <= 70 else ('Normal', glicose) if glicose < 100 else ('Alterada', glicose) if glicose < 125 else ('Diabetes', glicose) for glicose in glicemia]\n",
        "print(f\"As informações sobre a glicemia são: {dados}\")"
      ],
      "metadata": {
        "colab": {
          "base_uri": "https://localhost:8080/"
        },
        "id": "ByCJZEHdKLL5",
        "outputId": "b47babb7-d437-4682-f390-4aa6f1575fd7"
      },
      "execution_count": 1,
      "outputs": [
        {
          "output_type": "stream",
          "name": "stdout",
          "text": [
            "As informações sobre a glicemia são: [('Diabetes', 129), ('Normal', 82), ('Hipoglicemia', 60), ('Normal', 97), ('Alterada', 101), ('Hipoglicemia', 65), ('Hipoglicemia', 62), ('Diabetes', 167), ('Normal', 87), ('Hipoglicemia', 53), ('Hipoglicemia', 58), ('Normal', 92), ('Hipoglicemia', 66), ('Alterada', 120), ('Alterada', 109), ('Hipoglicemia', 62), ('Normal', 86), ('Normal', 96), ('Alterada', 103), ('Normal', 88), ('Diabetes', 155), ('Hipoglicemia', 52), ('Normal', 89), ('Normal', 73)]\n"
          ]
        }
      ]
    },
    {
      "cell_type": "code",
      "source": [
        "id = [0, 1, 2, 3, 4, 5, 6, 7, 8, 9]\n",
        "quantidade = [15, 12, 1, 15, 2, 11, 2, 12, 2, 4]\n",
        "preco = [93.0, 102.0, 18.0, 41.0, 122.0, 14.0, 71.0, 48.0, 14.0, 144.0]\n",
        "\n",
        "cabecalho = [('id', 'quantidade', 'preco', 'total')]\n",
        "tuplas = [(id[i], quantidade[i], preco[i], quantidade[i]*preco[i]) for i in range(len(id))]\n",
        "tuplas"
      ],
      "metadata": {
        "colab": {
          "base_uri": "https://localhost:8080/"
        },
        "id": "aTSPUd41dxoM",
        "outputId": "3937afa7-7a85-467e-95ac-9e15a471b10b"
      },
      "execution_count": 9,
      "outputs": [
        {
          "output_type": "execute_result",
          "data": {
            "text/plain": [
              "[(0, 15, 93.0, 1395.0),\n",
              " (1, 12, 102.0, 1224.0),\n",
              " (2, 1, 18.0, 18.0),\n",
              " (3, 15, 41.0, 615.0),\n",
              " (4, 2, 122.0, 244.0),\n",
              " (5, 11, 14.0, 154.0),\n",
              " (6, 2, 71.0, 142.0),\n",
              " (7, 12, 48.0, 576.0),\n",
              " (8, 2, 14.0, 28.0),\n",
              " (9, 4, 144.0, 576.0)]"
            ]
          },
          "metadata": {},
          "execution_count": 9
        }
      ]
    },
    {
      "cell_type": "code",
      "source": [
        "estado = ['SP', 'ES', 'MG', 'MG', 'SP', 'MG', 'ES', 'ES', 'ES', 'SP', 'SP', 'MG', 'ES', 'SP', 'RJ', 'MG', 'RJ', 'SP', 'MG', 'SP', 'ES', 'SP', 'MG']\n",
        "estados = list(set(estado))\n",
        "lista = []\n",
        "\n",
        "for est in estados:\n",
        "  lista_listas = [e for e in estado if e == est]\n",
        "  lista.append(lista_listas)\n",
        "\n",
        "valores = {estados[i]: len(lista[i]) for i in range(len(estados))}\n",
        "valores"
      ],
      "metadata": {
        "colab": {
          "base_uri": "https://localhost:8080/"
        },
        "id": "tq9HqcB2fOR_",
        "outputId": "a28a0ebe-30cb-47f6-aeba-b100d9a6e09c"
      },
      "execution_count": 16,
      "outputs": [
        {
          "output_type": "execute_result",
          "data": {
            "text/plain": [
              "{'MG': 7, 'ES': 6, 'SP': 8, 'RJ': 2}"
            ]
          },
          "metadata": {},
          "execution_count": 16
        }
      ]
    },
    {
      "cell_type": "code",
      "source": [
        "funcionarios = [('SP', 16), ('ES', 8), ('MG', 9), ('MG', 6), ('SP', 10), ('MG', 4), ('ES',9), ('ES', 7), ('ES', 12), ('SP', 7), ('SP', 11), ('MG',8), ('ES',8), ('SP',9), ('RJ', 13), ('MG', 5), ('RJ', 9), ('SP', 12), ('MG', 10), ('SP', 7), ('ES', 14), ('SP', 10), ('MG', 12)]\n",
        "estados = list(set([func[0] for func in funcionarios]))\n",
        "lista = []\n",
        "\n",
        "for estado in estados:\n",
        "  lista_de_listas = [func[1] for func in funcionarios if func[0] == estado]\n",
        "  lista.append(lista_de_listas)\n",
        "\n",
        "estados_valores = {estados[i]: lista[i] for i in range(len(estados))}\n",
        "soma_valores = {estados[i]: sum(lista[i]) for i in range(len(estados))}\n",
        "print(f\"ESTADOS E SEUS VALORES: {estados_valores}\")\n",
        "print(f\"ESTADOS E SUA SOMA: {soma_valores}\")\n"
      ],
      "metadata": {
        "colab": {
          "base_uri": "https://localhost:8080/"
        },
        "id": "TiNtwXQ6junP",
        "outputId": "7e549a8d-0900-4a29-b4d0-05c2c9529e6c"
      },
      "execution_count": 21,
      "outputs": [
        {
          "output_type": "stream",
          "name": "stdout",
          "text": [
            "ESTADOS E SEUS VALORES: {'MG': [9, 6, 4, 8, 5, 10, 12], 'ES': [8, 9, 7, 12, 8, 14], 'SP': [16, 10, 7, 11, 9, 12, 7, 10], 'RJ': [13, 9]}\n",
            "ESTADOS E SUA SOMA: {'MG': 54, 'ES': 58, 'SP': 82, 'RJ': 22}\n"
          ]
        }
      ]
    }
  ]
}